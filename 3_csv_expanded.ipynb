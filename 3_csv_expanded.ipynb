{
 "cells": [
  {
   "cell_type": "code",
   "execution_count": 1,
   "metadata": {},
   "outputs": [],
   "source": [
    "import pandas as pd\n",
    "from values import *\n",
    "import re\n",
    "\n",
    "val = Values()"
   ]
  },
  {
   "cell_type": "code",
   "execution_count": 2,
   "metadata": {},
   "outputs": [],
   "source": [
    "warengr = val.wr_gr\n",
    "warenname = val.wr_name\n",
    "parent_dir = val.parent_dir"
   ]
  },
  {
   "cell_type": "code",
   "execution_count": 3,
   "metadata": {},
   "outputs": [
    {
     "name": "stderr",
     "output_type": "stream",
     "text": [
      "/var/folders/5j/sk834jzs3cg8kh3yp7743_ym0000gp/T/ipykernel_97938/2001893261.py:2: DtypeWarning: Columns (2,70,75,76,82,83,87) have mixed types. Specify dtype option on import or set low_memory=False.\n",
      "  ma_list_ = pd.read_csv(val.marketing_artikel,delimiter=';',encoding='cp850',on_bad_lines='skip')\n"
     ]
    }
   ],
   "source": [
    "exported_csv_ = pd.read_csv(f'{parent_dir}{warengr}_{warenname}/{warenname}_{warengr}.csv',delimiter=';',encoding='utf-8')\n",
    "ma_list_ = pd.read_csv(val.marketing_artikel,delimiter=';',encoding='cp850',on_bad_lines='skip')\n",
    "\n",
    "# _grosse_codes = pd.read_excel(val.groesse_codes)\n",
    "# _farbe_codes = pd.read_excel(val.farbe_codes)"
   ]
  },
  {
   "cell_type": "code",
   "execution_count": 4,
   "metadata": {},
   "outputs": [],
   "source": [
    "# grosse_codes = _grosse_codes[['SIZE_KEY','SIZE_NAME']].astype(str).set_index('SIZE_KEY').to_dict()\n",
    "# farbe_codes = _farbe_codes[['FARBE_KEY','FARBE_NAME']].astype(str).set_index('FARBE_KEY').to_dict()\n",
    "# grosse_codes = grosse_codes['SIZE_NAME']\n",
    "# farbe_codes = farbe_codes['FARBE_NAME']\n",
    "# farbe_codes['NA'] = 'Navy'\n",
    "# farbe_codes['nan'] = ''"
   ]
  },
  {
   "cell_type": "code",
   "execution_count": 5,
   "metadata": {},
   "outputs": [],
   "source": [
    "# ma_list = ma_list_.copy()\n",
    "# exported_csv = exported_csv_.copy()\n",
    "\n",
    "# ma_list = ma_list[ma_list['WM'].isna()]\n",
    "# ma_list = ma_list[['WM','NUMMER','GROESSE','FARBE']]\n",
    "# ma_list = ma_list.drop_duplicates()\n"
   ]
  },
  {
   "cell_type": "code",
   "execution_count": 6,
   "metadata": {},
   "outputs": [],
   "source": [
    "# wr_list = pd.merge(ma_list,exported_csv,how='right',on='NUMMER')\n"
   ]
  },
  {
   "cell_type": "code",
   "execution_count": 7,
   "metadata": {},
   "outputs": [],
   "source": [
    "# wr_list['FARBENWERT'] = wr_list['FARBE'].astype(str).map(farbe_codes)\n",
    "# # wr_list = wr_list.rename(columns={\"FARBE_x\":\"FARBE\"})\n",
    "# wr_list['GROESSENWERT'] = wr_list['GROESSE'].astype(str).map(grosse_codes)\n"
   ]
  },
  {
   "cell_type": "code",
   "execution_count": 8,
   "metadata": {},
   "outputs": [],
   "source": [
    "# wr_list = wr_list.drop_duplicates(subset=['NUMMER','GROESSE','FARBE'])"
   ]
  },
  {
   "cell_type": "code",
   "execution_count": 9,
   "metadata": {},
   "outputs": [],
   "source": [
    "wr_list = exported_csv_.copy()\n",
    "wr_list = wr_list.replace(r'\\[|\\]|\\\"|\\{|\\}',\"\",regex=True)\n",
    "wr_list = wr_list.replace(r\"\\'\",\"\",regex=True)\n",
    "wr_list = wr_list.replace(\"<Keine Größen>\",\"\")\n"
   ]
  },
  {
   "cell_type": "code",
   "execution_count": 10,
   "metadata": {},
   "outputs": [],
   "source": [
    "wr_list.drop_duplicates(subset='NUMMER')\n",
    "wr_list = wr_list.replace(r'Unbekannt|keine Angabe|Nicht angegeben|N/A|Nicht explizit erwähnt|Ohne Angabe','',regex=True)"
   ]
  },
  {
   "cell_type": "code",
   "execution_count": 11,
   "metadata": {},
   "outputs": [],
   "source": [
    "wr_list.to_csv(f'{parent_dir}{warengr}_{warenname}/{warengr}_{warenname}_endlist.csv',index=False,encoding='utf-8',sep=';')\n",
    "wr_list.to_excel(f'{parent_dir}{warengr}_{warenname}/{warengr}_{warenname}_endlist.xlsx',index=False)"
   ]
  },
  {
   "cell_type": "code",
   "execution_count": null,
   "metadata": {},
   "outputs": [],
   "source": []
  },
  {
   "cell_type": "code",
   "execution_count": null,
   "metadata": {},
   "outputs": [],
   "source": []
  }
 ],
 "metadata": {
  "kernelspec": {
   "display_name": ".venv",
   "language": "python",
   "name": "python3"
  },
  "language_info": {
   "codemirror_mode": {
    "name": "ipython",
    "version": 3
   },
   "file_extension": ".py",
   "mimetype": "text/x-python",
   "name": "python",
   "nbconvert_exporter": "python",
   "pygments_lexer": "ipython3",
   "version": "3.12.3"
  }
 },
 "nbformat": 4,
 "nbformat_minor": 2
}
