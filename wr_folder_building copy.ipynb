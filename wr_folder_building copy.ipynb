{
 "cells": [
  {
   "cell_type": "markdown",
   "metadata": {},
   "source": [
    "## Creating folders for each WARENGRUPPE along with the product data for that WR\n",
    "\n",
    "This is a one-time used code to structure the data so that products for each product group are in their separate folder along with their prompt format and allowed keys as well as their output csv and json files. This will structure the data so that each product group is treated individually based on its attributes. "
   ]
  },
  {
   "cell_type": "code",
   "execution_count": 1,
   "metadata": {},
   "outputs": [],
   "source": [
    "## Importing libraries and initializing values class to import the relevant variables\n",
    "import pandas as pd\n",
    "from values import *\n",
    "import os\n",
    "# from dbfread import DBF\n",
    "\n",
    "val = Values()\n",
    "encoding_ = 'cp850'\n",
    "encoding_errors='replace'"
   ]
  },
  {
   "cell_type": "code",
   "execution_count": null,
   "metadata": {},
   "outputs": [],
   "source": [
    "marketing_art = pd.read_excel('/Users/maralsheikhzadeh/Documents/Codes/P - Artikel Attribute/tischdecken.xlsx',engine='openpyxl')\n",
    "mar = pd.read_csv(val.marketing_artikel,sep=';',encoding=encoding_,on_bad_lines='skip')\n",
    "\n",
    "marketing_art = pd.merge(marketing_art,mar,on='NUMMER',how='left')\n",
    "marketing_art = marketing_art.drop_duplicates(subset='NUMMER')"
   ]
  },
  {
   "cell_type": "code",
   "execution_count": null,
   "metadata": {},
   "outputs": [],
   "source": [
    "marketing_art"
   ]
  },
  {
   "cell_type": "code",
   "execution_count": 4,
   "metadata": {},
   "outputs": [],
   "source": [
    "## loading data from warengruppe list, the products in the webshop and the marketing artikel list that connects the other two datas together\n",
    "warengr = pd.read_csv(val.wr_filepath,sep=';',encoding_errors=encoding_errors,encoding=encoding_)\n",
    "shop = pd.read_excel(val.shop_file_path,engine='openpyxl')\n",
    "shop2 = pd.read_excel('/Users/maralsheikhzadeh/Documents/Codes/Data/All Exports/Artikel/export_report-01-aa.xlsx',engine='openpyxl')\n",
    "shop3 = pd.read_excel('/Users/maralsheikhzadeh/Documents/Codes/Data/All Exports/Artikel/export-01-aa-JG.xlsx',engine='openpyxl')\n",
    "\n",
    "\n",
    "\n",
    "## We need the first part of the StoreId number to connect with the marketing artikel list\n",
    "# shop['NUMMER'] = shop['StoreId'].str.split().str[0]\n",
    "\n",
    "# cat_data = pd.read_csv(val.cat_data,delimiter=';',encoding_errors=encoding_errors)\n",
    "\n",
    "shop = pd.concat([shop,shop2,shop3])\n",
    "shop = shop.drop_duplicates(subset='StoreId')"
   ]
  },
  {
   "cell_type": "code",
   "execution_count": 5,
   "metadata": {},
   "outputs": [],
   "source": [
    "shop['NUMMER'] = shop['StoreId'].str.strip()\n",
    "shop['NUMMER'] = shop['NUMMER'].str.split().str[0]\n",
    "shop['Var_Text'] = shop['Var_Text'].fillna(\"\")"
   ]
  },
  {
   "cell_type": "markdown",
   "metadata": {},
   "source": [
    "### Data Processing"
   ]
  },
  {
   "cell_type": "code",
   "execution_count": 6,
   "metadata": {},
   "outputs": [],
   "source": [
    "\n",
    "# marketing_art['WARENGR'] = marketing_art['WARENGR'].astype(str)\n",
    "# marketing_art['WARENGR'] = marketing_art['WARENGR'].str.replace('.0','')\n",
    "# marketing_art['WARENGR'] = marketing_art['WARENGR'].str.strip()\n",
    "\n",
    "\n",
    "# marketing_art = marketing_art[['WM','NUMMER','GROESSE','FARBE','WG_CODE']]\n",
    "marketing_art = marketing_art[(marketing_art['WM'].isna())|(marketing_art['WM']==\"\")]\n",
    "marketing_art['NUMBER'] = marketing_art['NUMMER'].str.ljust(8) + marketing_art['GROESSE'].str.ljust(4) + marketing_art['FARBE'].str.ljust(2)\n",
    "marketing_art['NUMBER'] = marketing_art['NUMBER'].str.strip()\n",
    "# mark_bez_df['NUMMER'] = mark_bez_df['NUMMER'].str.strip()\n",
    "\n",
    "# warengr['WAREN_GRP'] = warengr['WAREN_GRP'].astype(str)\n",
    "# warengr['WAREN_GRP'] = warengr['WAREN_GRP'].str.replace('.0','')\n",
    "# warengr['WAREN_GRP'] = warengr['WAREN_GRP'].str.strip()\n",
    "\n"
   ]
  },
  {
   "cell_type": "code",
   "execution_count": 7,
   "metadata": {},
   "outputs": [],
   "source": [
    "marketing_art = marketing_art[['NUMMER','NUMBER',\n",
    " 'BANAME',\n",
    " 'WGNAME',\n",
    " 'WG_CODE',\n",
    " 'WG_NAME',\n",
    " 'WM',\n",
    " 'GROESSE',\n",
    " 'FARBE'\n",
    " ]]"
   ]
  },
  {
   "cell_type": "code",
   "execution_count": null,
   "metadata": {},
   "outputs": [],
   "source": [
    "artikels = pd.merge(marketing_art,shop,how='left',on=\"NUMMER\")\n",
    "artikels = artikels[['WM','NUMMER','GROESSE','FARBE', 'NUMBER','WG_CODE','Name','Beschreibung','Var_Text']]\n",
    "artikels = artikels.rename(columns={'Name':'NAME','Beschreibung':'NET_BESCHREIBUNG'})\n",
    "artikels['NET_BESCHREIBUNG'] = artikels['NET_BESCHREIBUNG'].str.replace(' ',' ',regex=True)\n",
    "artikels['NET_BESCHREIBUNG'] = artikels['NET_BESCHREIBUNG'].str.replace(r'(<[^>]*>)',' ',regex=True,case=False)\n",
    "artikels['NET_BESCHREIBUNG'] = artikels['NET_BESCHREIBUNG'].str.replace(r'&nbsp_|&nbsp;|&Oslash',' ',regex=True)\n",
    "artikels['BESCHREIBUNG'] = artikels['NAME'] + ' - ' + artikels['Var_Text'] + ' - ' + artikels['NET_BESCHREIBUNG']\n",
    "artikels = artikels.drop_duplicates('NUMMER')\n",
    "artikels = artikels.dropna(subset=['NET_BESCHREIBUNG'])\n",
    "artikels = artikels[['NUMMER','WG_CODE','NAME','BESCHREIBUNG']]\n",
    "artikels = artikels.rename(columns={\"BESCHREIBUNG\":'NET_BESCHREIBUNG'})\n",
    "artikels.to_csv(\"tischdecke-online.csv\",sep=';',encoding='utf-8',index=False)\n",
    "artikels[artikels['NUMMER']=='047HX11']"
   ]
  }
 ],
 "metadata": {
  "kernelspec": {
   "display_name": ".venv",
   "language": "python",
   "name": "python3"
  },
  "language_info": {
   "codemirror_mode": {
    "name": "ipython",
    "version": 3
   },
   "file_extension": ".py",
   "mimetype": "text/x-python",
   "name": "python",
   "nbconvert_exporter": "python",
   "pygments_lexer": "ipython3",
   "version": "3.12.3"
  }
 },
 "nbformat": 4,
 "nbformat_minor": 2
}
