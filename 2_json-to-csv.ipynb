{
 "cells": [
  {
   "cell_type": "code",
   "execution_count": 1,
   "metadata": {},
   "outputs": [],
   "source": [
    "import pandas as pd\n",
    "import csv\n",
    "import json\n",
    "from values import *"
   ]
  },
  {
   "cell_type": "code",
   "execution_count": 2,
   "metadata": {},
   "outputs": [
    {
     "name": "stdout",
     "output_type": "stream",
     "text": [
      "/Users/maralsheikhzadeh/Documents/Codes/Data/product_mining_3/1001_Öfen - Mikrowellen/Öfen - Mikrowellen_1001.json\n"
     ]
    }
   ],
   "source": [
    "val = Values()\n",
    "warengr = val.wr_gr\n",
    "path = f'{val.parent_dir}{val.wr_gr}_{val.wr_name}/'\n",
    "filename = val.wr_name\n",
    "print(f\"{path}{filename}_{warengr}.json\")"
   ]
  },
  {
   "cell_type": "code",
   "execution_count": 3,
   "metadata": {},
   "outputs": [],
   "source": [
    "def json_to_csv(json_file, csv_file):\n",
    "    # Read JSON data into a DataFrame\n",
    "    df = pd.read_json(json_file)\n",
    "\n",
    "    # Write DataFrame to CSV\n",
    "    df.to_csv(csv_file, sep=';', encoding='utf-8', index=False)\n",
    "\n",
    "\n",
    "json_to_csv(f\"{path}{filename}_{warengr}.json\", f\"{path}{filename}_{warengr}.csv\")"
   ]
  },
  {
   "cell_type": "code",
   "execution_count": 4,
   "metadata": {},
   "outputs": [],
   "source": [
    "def list_to_str(lists):\n",
    "    return \", \".join(map(str,lists))"
   ]
  },
  {
   "cell_type": "code",
   "execution_count": null,
   "metadata": {},
   "outputs": [],
   "source": []
  },
  {
   "cell_type": "code",
   "execution_count": null,
   "metadata": {},
   "outputs": [],
   "source": []
  }
 ],
 "metadata": {
  "kernelspec": {
   "display_name": ".venv",
   "language": "python",
   "name": "python3"
  },
  "language_info": {
   "codemirror_mode": {
    "name": "ipython",
    "version": 3
   },
   "file_extension": ".py",
   "mimetype": "text/x-python",
   "name": "python",
   "nbconvert_exporter": "python",
   "pygments_lexer": "ipython3",
   "version": "3.12.3"
  }
 },
 "nbformat": 4,
 "nbformat_minor": 2
}
