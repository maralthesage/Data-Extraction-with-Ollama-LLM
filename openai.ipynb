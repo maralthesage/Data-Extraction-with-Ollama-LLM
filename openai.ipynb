{
 "cells": [
  {
   "cell_type": "code",
   "execution_count": null,
   "metadata": {},
   "outputs": [],
   "source": [
    "import os\n",
    "import pandas as pd\n",
    "import re\n",
    "import json\n",
    "import openai\n",
    "from langchain.chat_models import ChatOpenAI\n",
    "from langchain import LLMChain\n",
    "from langchain.prompts import PromptTemplate\n",
    "\n",
    "from values import Values\n",
    "import warnings\n",
    "\n",
    "warnings.filterwarnings('ignore')\n",
    "val = Values()"
   ]
  },
  {
   "cell_type": "code",
   "execution_count": null,
   "metadata": {},
   "outputs": [],
   "source": [
    "openai.api_key = val.openai\n",
    "os.environ['OPENAI_API_KEY'] = val.openai\n",
    "\n",
    "wg_list = val.wr_gr\n",
    "wg_name = val.wr_name"
   ]
  },
  {
   "cell_type": "code",
   "execution_count": null,
   "metadata": {},
   "outputs": [],
   "source": [
    "## loading the csv file that has the product information for each warengruppe (previously generated using wr_folder_building.ipynb)\n",
    "file = pd.read_csv(f'{val.parent_dir}{wg_list}/{wg_list}.csv',delimiter=';',encoding='utf-8')\n",
    "mined_text = file.copy()"
   ]
  },
  {
   "cell_type": "code",
   "execution_count": null,
   "metadata": {},
   "outputs": [],
   "source": [
    "## Extracting the sets from the items to process them later\n",
    "mined_text['TEILIG'] = mined_text['BESCHREIBUNG'].str.extract(r'( *\\d+ *-*tlg.|\\d+-teilig|\\d+tlg.*|\\d+-*er *-*set|\\d+ set|\\d+ ?ply)',flags=re.IGNORECASE)\n",
    "mined_text = mined_text[mined_text['TEILIG'].isna() == True]\n",
    "mined_text = mined_text[['NUMMER','NAME','BESCHREIBUNG']]\n",
    "mined_text = mined_text[:30]"
   ]
  },
  {
   "cell_type": "code",
   "execution_count": null,
   "metadata": {},
   "outputs": [],
   "source": [
    "allowed_keys = [\n",
    "    \"NUMMER\", # Produkt ID\n",
    "    \"NAME\", # 1-Stufen Sicherheitsleiter\n",
    "    \"MATERIAL\", # Aluminium, Kunststoff\n",
    "    \"PRODUKTART\", # Wasserkocher, Mobiler Grillwagen\n",
    "    \"FARBE-TEXT\", # Rot\n",
    "    \"GROESSE-TEXT\", # klein, groß\n",
    "    \"HERGESTELLT\", # Deutschland\n",
    "    \"SET\", # 3-tlg.\n",
    "    \"STUECK\", # 1 Stück\n",
    "    \"DESIGN\", # Extrabreite Stufen mit Antirutschprofil\n",
    "    \"MOTIV\", # Blumenmotiv\n",
    "    \"MUSTER\", # großer Pfingstrosen-Print\n",
    "    \"BREITE\", # 31,5 cm (obere Standfläche)\n",
    "    \"TIEFE\", # 14,5 cm (Trittstufen)\n",
    "    \"HOEHE\", # 23 cm (obere Standfläche)\n",
    "    \"DURCHMESSER\", # Ø 5,5 cm \n",
    "    \"BODEN\", # Ø 25,5 cm \n",
    "    \"ANDERE-ABMESSUNGEN\", # [ 10 x 15 x 5 cm (B/T/H) ]\n",
    "    \"KLINGE-LAENGE\", # 15 cm\n",
    "    \"GESAMT-LAENGE\", # 25 cm\n",
    "    \"STAERKE\", # 3 mm\n",
    "    \"MENGE\", # 4\n",
    "    \"GESCHMACK\", # cremiger Haselnuss-Geschmack\n",
    "    \"ZUTATEN\", # Rindfleisch, Wasser, Salz\n",
    "    \"VERWENDUNGSZWECK\", # Zu Pasta, Pizza oder Calzone\n",
    "    \"LAGERUNGSHINWEIS\", # Kühl und Trocken lagern\n",
    "    \"VERPACKUNGSGROESSE\", # Enthält 6 Cannoli\n",
    "    \"INHALT\", # 3 x 200 ml\n",
    "    \"HALTBARKEIT\", # 18 Monate haltbar\n",
    "    \"FREI-VON\", # Farbstoffen, Konservierungsstoffen\n",
    "    \"GEWICHT\", # 15 kg\n",
    "    \"VOLUMEN\", # 1 l\n",
    "    \"TEMPERATUR\", # 100 °C\n",
    "    \"VOLT\", # 230V\n",
    "    \"WATT\", # 1.000W\n",
    "    \"DREHZAHL\", # bis zu 28.000 Umdrehungen/Minute\n",
    "    \"KABEL\", # 1 m\n",
    "    \"LED\", # LED Anzeige\n",
    "    \"OFENFEST\", # Ofenfest bis 120 °C, Grillfest, Backofenfest\n",
    "    \"GRIFF\", # mit Holzgriff\n",
    "    \"DECKEL\", # mit Deckel\n",
    "    \"FORM\", # Rund\n",
    "    \"KRATZFEST\", # kratzfest emailliertem\n",
    "    \"INDUCKTION\", # für alle Herdarten inklusive Induktion\n",
    "    \"KERN\", # Gusseisenkern\n",
    "    \"ANTIHAFTBESCHICHTUNG\", # 3-fache, Hartanodisieren, Antihaftversiegelung\n",
    "    \"PFANNENSTRUKTUR\", # Wabenstruktur, Netzbodenstruktur, Rillenstruktur\n",
    "    \"PFANNENART\", # Servierpfanne\n",
    "    \"GRILLART\", # Tischgrill, Elektrogrill, Gasgrill\n",
    "    \"MASCHINENWASCHBAR\", # Spülmaschinfest bis 60 °C\n",
    "    \"PFLEGEHINWEIS\", # Fleckschutz lässt sich durch Bügeln auffrischen\n",
    "    \"RUTSCHFEST\", # Rutschfest\n",
    "    \"ROSTFREI\", # Rostfrei\n",
    "    \"SCHUTZ\", # Teflon (TM)-Ausrüstung , Fleckenschutz\n",
    "    \"BRAND\", # Hagen Grote\n",
    "    \"QUALITAET\", # Hochfeste Aluminiumstruktur\n",
    "    \"ZERTIFIKATE\", # OEKO-TEX® STANDARD 100, BIO\n",
    "    \"ANWENDUNG\", # Sicherheitsleiter\n",
    "    \"ANDERE-EIGENSCHAFTEN\" # [\"Standsicher\", \"Superleicht\", \"Ultraflach\", \"Fester Stand\", \"Oberer Haltebügel\", \"Geprüfte Sicherheit\"]\n",
    "]"
   ]
  },
  {
   "cell_type": "code",
   "execution_count": null,
   "metadata": {},
   "outputs": [],
   "source": [
    "uncleaned_data = []\n",
    "\n",
    "for id,name, beschreibung in zip(mined_text['NUMMER'],mined_text['NAME'],mined_text['BESCHREIBUNG']):\n",
    "\n",
    "\n",
    "    # Define a prompt template\n",
    "    prompt_template = f\"\"\"\n",
    "                        [INST]\n",
    "                        1. Extrahieren Sie die Produktattribute aus der folgenden Beschreibung und geben Sie sie als gültiges JSON-Objekt in deutscher Sprache aus.\n",
    "                        2. Verwenden Sie NUR die allowed_keys = {allowed_keys} Schlüssel und ändern Sie diese nicht.\n",
    "                        3. Nutzen Sie ALLE erlaubten Schlüssel im JSON-Objekt und setzen Sie nicht verfügbare Werte als \"N/A\".\n",
    "                        4. Beschränken Sie die Werte auf maximal 50 Zeichen.\n",
    "                        5. Verwenden Sie NUR die im Text vorhandenen Informationen, ohne Schlüsse oder Vermutungen.\n",
    "                        6. Das JSON-Objekt sollte KEINE ASCII-Kodierung enthalten.\n",
    "                        7. Überprüfen Sie doppelt, ob die Schlüssel alle genau gleich als \"allowed_keys\" sind.\n",
    "                        8. Achten Sie darauf, dass die Reihenfolge der Dimensionen B/T/H ist (Breite, Tiefe, Höhe).\n",
    "                        9. Werte sollten eindeutige Wörter sein und keine \"Ja\", \"Nein\", \"True\" oder \"False\". Beispiel: DECKEL = \"Mit Deckel\".\n",
    "                        10. Die Ausgabe sollte NUR das JSON-Objekt sein, ohne zusätzlichen Text außerhalb von geschweiften Klammern.\n",
    "                        11. Verwenden Sie ausschließlich Informationen aus dem aktuellen Text, ohne Vorwissen oder Ableitungen.\n",
    "                        [/INST]\n",
    "                        NUMMER: {id}\n",
    "                        NAME: {name}\n",
    "                        Beschreibung: {beschreibung}\n",
    "                        \"\"\"\n",
    "\n",
    "    # Create a LangChain prompt\n",
    "    prompt = PromptTemplate(template=prompt_template, input_variables=[\"description\", \"allowed_keys\", \"id\", \"name\"])\n",
    "\n",
    "    # Initialize the OpenAI LLM\n",
    "    llm = ChatOpenAI(model=\"gpt-4o\")  # Ensure this is the correct engine name\n",
    "\n",
    "    # Initialize the LLMChain with the LLM and the prompt\n",
    "    llm_chain = LLMChain(llm=llm, prompt=prompt)\n",
    "\n",
    "\n",
    "\n",
    "    response = llm_chain.run(description=beschreibung,name=name,id=id,allowed_keys=allowed_keys)\n",
    "    uncleaned_data.append(response)"
   ]
  },
  {
   "cell_type": "code",
   "execution_count": null,
   "metadata": {},
   "outputs": [],
   "source": [
    "## function to clean responses from the LLM\n",
    "def clean_response(response_text):\n",
    "\n",
    "    try:\n",
    "        response_dict = json.loads(response_text)\n",
    "        cleaned_dict = {key: value.strip() if isinstance(value, str) else value for key, value in response_dict.items()}\n",
    "        return cleaned_dict\n",
    "\n",
    "    except json.JSONDecodeError :\n",
    "\n",
    "        print(f\"Error: The response is not a valid JSON object.\")\n",
    "        print(response_text)\n",
    "\n",
    "        return None"
   ]
  },
  {
   "cell_type": "code",
   "execution_count": null,
   "metadata": {},
   "outputs": [],
   "source": [
    "## cleaning one step further and appending responses to a new list\n",
    "new_data = []\n",
    "for id,item in enumerate(uncleaned_data):\n",
    "    # print(item)\n",
    "    item = item.replace('```',\"\")\n",
    "    item = item.replace('json',\"\")\n",
    "\n",
    "    new_data.append(clean_response(item))\n",
    "    \n",
    "print(new_data)"
   ]
  },
  {
   "cell_type": "code",
   "execution_count": null,
   "metadata": {},
   "outputs": [],
   "source": [
    "## saving clean json-objects to a json file\n",
    "with open(f'{val.parent_dir}{val.wr_gr}/{val.wr_name}_{val.wr_gr}.json', 'w', encoding=\"utf-8\") as f:\n",
    "    json.dump(new_data, f, indent=4, ensure_ascii=False)    "
   ]
  },
  {
   "cell_type": "code",
   "execution_count": null,
   "metadata": {},
   "outputs": [],
   "source": []
  }
 ],
 "metadata": {
  "kernelspec": {
   "display_name": "base",
   "language": "python",
   "name": "python3"
  },
  "language_info": {
   "codemirror_mode": {
    "name": "ipython",
    "version": 3
   },
   "file_extension": ".py",
   "mimetype": "text/x-python",
   "name": "python",
   "nbconvert_exporter": "python",
   "pygments_lexer": "ipython3",
   "version": "3.12.3"
  }
 },
 "nbformat": 4,
 "nbformat_minor": 2
}
